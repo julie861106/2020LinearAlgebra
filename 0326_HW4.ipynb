{
 "cells": [
  {
   "cell_type": "code",
   "execution_count": 1,
   "metadata": {},
   "outputs": [],
   "source": [
    "%matplotlib inline\n",
    "\n",
    "import numpy as np\n",
    "import sympy as sp"
   ]
  },
  {
   "cell_type": "markdown",
   "metadata": {},
   "source": [
    "## Q1. 給定任意兩個 n 維行向量 x, y，n 至少為 4，驗證 x y<sup>T</sup>的 rank 為 1。"
   ]
  },
  {
   "cell_type": "markdown",
   "metadata": {},
   "source": [
    "### 令x, y"
   ]
  },
  {
   "cell_type": "code",
   "execution_count": 2,
   "metadata": {},
   "outputs": [],
   "source": [
    "x = sp.Matrix([1, 1, 5, 6])"
   ]
  },
  {
   "cell_type": "code",
   "execution_count": 3,
   "metadata": {},
   "outputs": [
    {
     "data": {
      "text/latex": [
       "$\\displaystyle \\left[\\begin{matrix}1\\\\1\\\\5\\\\6\\end{matrix}\\right]$"
      ],
      "text/plain": [
       "Matrix([\n",
       "[1],\n",
       "[1],\n",
       "[5],\n",
       "[6]])"
      ]
     },
     "execution_count": 3,
     "metadata": {},
     "output_type": "execute_result"
    }
   ],
   "source": [
    "x"
   ]
  },
  {
   "cell_type": "code",
   "execution_count": 4,
   "metadata": {},
   "outputs": [],
   "source": [
    "y = sp.Matrix([1, 3, 1, 9])"
   ]
  },
  {
   "cell_type": "code",
   "execution_count": 5,
   "metadata": {},
   "outputs": [
    {
     "data": {
      "text/latex": [
       "$\\displaystyle \\left[\\begin{matrix}1\\\\3\\\\1\\\\9\\end{matrix}\\right]$"
      ],
      "text/plain": [
       "Matrix([\n",
       "[1],\n",
       "[3],\n",
       "[1],\n",
       "[9]])"
      ]
     },
     "execution_count": 5,
     "metadata": {},
     "output_type": "execute_result"
    }
   ],
   "source": [
    "y"
   ]
  },
  {
   "cell_type": "markdown",
   "metadata": {},
   "source": [
    "### 算 x y<sup>T</sup>"
   ]
  },
  {
   "cell_type": "code",
   "execution_count": 6,
   "metadata": {},
   "outputs": [],
   "source": [
    "A = x@y.T"
   ]
  },
  {
   "cell_type": "code",
   "execution_count": 7,
   "metadata": {},
   "outputs": [
    {
     "data": {
      "text/latex": [
       "$\\displaystyle \\left[\\begin{matrix}1 & 3 & 1 & 9\\\\1 & 3 & 1 & 9\\\\5 & 15 & 5 & 45\\\\6 & 18 & 6 & 54\\end{matrix}\\right]$"
      ],
      "text/plain": [
       "Matrix([\n",
       "[1,  3, 1,  9],\n",
       "[1,  3, 1,  9],\n",
       "[5, 15, 5, 45],\n",
       "[6, 18, 6, 54]])"
      ]
     },
     "execution_count": 7,
     "metadata": {},
     "output_type": "execute_result"
    }
   ],
   "source": [
    "A"
   ]
  },
  {
   "cell_type": "code",
   "execution_count": 8,
   "metadata": {},
   "outputs": [],
   "source": [
    "a0 = A.col(0)"
   ]
  },
  {
   "cell_type": "code",
   "execution_count": 9,
   "metadata": {},
   "outputs": [],
   "source": [
    "a1 = A.col(1)"
   ]
  },
  {
   "cell_type": "code",
   "execution_count": 10,
   "metadata": {},
   "outputs": [],
   "source": [
    "a2 = A.col(2)"
   ]
  },
  {
   "cell_type": "code",
   "execution_count": 11,
   "metadata": {},
   "outputs": [],
   "source": [
    "a3 = A.col(3)"
   ]
  },
  {
   "cell_type": "markdown",
   "metadata": {},
   "source": [
    "### 驗證是否為rank1"
   ]
  },
  {
   "cell_type": "code",
   "execution_count": 12,
   "metadata": {},
   "outputs": [
    {
     "data": {
      "text/plain": [
       "True"
      ]
     },
     "execution_count": 12,
     "metadata": {},
     "output_type": "execute_result"
    }
   ],
   "source": [
    "a1 == a0*3"
   ]
  },
  {
   "cell_type": "code",
   "execution_count": 13,
   "metadata": {},
   "outputs": [
    {
     "data": {
      "text/plain": [
       "True"
      ]
     },
     "execution_count": 13,
     "metadata": {},
     "output_type": "execute_result"
    }
   ],
   "source": [
    "a2 == a0*1"
   ]
  },
  {
   "cell_type": "code",
   "execution_count": 14,
   "metadata": {},
   "outputs": [
    {
     "data": {
      "text/plain": [
       "True"
      ]
     },
     "execution_count": 14,
     "metadata": {},
     "output_type": "execute_result"
    }
   ],
   "source": [
    "a3 == a0*9"
   ]
  },
  {
   "cell_type": "markdown",
   "metadata": {},
   "source": [
    "### `每一column都可以用第0 column生成，因此是rank1，得證`"
   ]
  },
  {
   "cell_type": "markdown",
   "metadata": {},
   "source": [
    "## Q2. 給定任意一個 rank 1 的 n x n 矩陣 A，試著找出兩個 n 維行向量 x, y 使得 A = x y<sup>T</sup>"
   ]
  },
  {
   "cell_type": "markdown",
   "metadata": {},
   "source": [
    "### 令A"
   ]
  },
  {
   "cell_type": "code",
   "execution_count": 15,
   "metadata": {},
   "outputs": [],
   "source": [
    "A = sp.Matrix([[1, 2, 3, 4],\n",
    "               [2, 4, 6, 8], \n",
    "               [3, 6, 9, 12], \n",
    "               [4, 8, 12, 16]])"
   ]
  },
  {
   "cell_type": "code",
   "execution_count": 16,
   "metadata": {},
   "outputs": [
    {
     "data": {
      "text/latex": [
       "$\\displaystyle \\left[\\begin{matrix}1 & 2 & 3 & 4\\\\2 & 4 & 6 & 8\\\\3 & 6 & 9 & 12\\\\4 & 8 & 12 & 16\\end{matrix}\\right]$"
      ],
      "text/plain": [
       "Matrix([\n",
       "[1, 2,  3,  4],\n",
       "[2, 4,  6,  8],\n",
       "[3, 6,  9, 12],\n",
       "[4, 8, 12, 16]])"
      ]
     },
     "execution_count": 16,
     "metadata": {},
     "output_type": "execute_result"
    }
   ],
   "source": [
    "A"
   ]
  },
  {
   "cell_type": "markdown",
   "metadata": {},
   "source": [
    "### 令x, y"
   ]
  },
  {
   "cell_type": "code",
   "execution_count": 17,
   "metadata": {},
   "outputs": [],
   "source": [
    "x = A.col(0)"
   ]
  },
  {
   "cell_type": "code",
   "execution_count": 18,
   "metadata": {},
   "outputs": [
    {
     "data": {
      "text/latex": [
       "$\\displaystyle \\left[\\begin{matrix}1\\\\2\\\\3\\\\4\\end{matrix}\\right]$"
      ],
      "text/plain": [
       "Matrix([\n",
       "[1],\n",
       "[2],\n",
       "[3],\n",
       "[4]])"
      ]
     },
     "execution_count": 18,
     "metadata": {},
     "output_type": "execute_result"
    }
   ],
   "source": [
    "x"
   ]
  },
  {
   "cell_type": "code",
   "execution_count": 19,
   "metadata": {},
   "outputs": [],
   "source": [
    "from sympy.abc import a, b, c, d"
   ]
  },
  {
   "cell_type": "code",
   "execution_count": 20,
   "metadata": {},
   "outputs": [],
   "source": [
    "y = sp.Matrix([a, b, c, d])"
   ]
  },
  {
   "cell_type": "code",
   "execution_count": 21,
   "metadata": {},
   "outputs": [
    {
     "data": {
      "text/latex": [
       "$\\displaystyle \\left[\\begin{matrix}a\\\\b\\\\c\\\\d\\end{matrix}\\right]$"
      ],
      "text/plain": [
       "Matrix([\n",
       "[a],\n",
       "[b],\n",
       "[c],\n",
       "[d]])"
      ]
     },
     "execution_count": 21,
     "metadata": {},
     "output_type": "execute_result"
    }
   ],
   "source": [
    "y"
   ]
  },
  {
   "cell_type": "markdown",
   "metadata": {},
   "source": [
    "### A = x y<sup>T</sup>"
   ]
  },
  {
   "cell_type": "code",
   "execution_count": 22,
   "metadata": {},
   "outputs": [
    {
     "data": {
      "text/latex": [
       "$\\displaystyle \\left[\\begin{matrix}a & b & c & d\\\\2 a & 2 b & 2 c & 2 d\\\\3 a & 3 b & 3 c & 3 d\\\\4 a & 4 b & 4 c & 4 d\\end{matrix}\\right]$"
      ],
      "text/plain": [
       "Matrix([\n",
       "[  a,   b,   c,   d],\n",
       "[2*a, 2*b, 2*c, 2*d],\n",
       "[3*a, 3*b, 3*c, 3*d],\n",
       "[4*a, 4*b, 4*c, 4*d]])"
      ]
     },
     "execution_count": 22,
     "metadata": {},
     "output_type": "execute_result"
    }
   ],
   "source": [
    "x@y.T"
   ]
  },
  {
   "cell_type": "markdown",
   "metadata": {},
   "source": [
    "### 由上可知a = 1, b = 2, c = 3, d = 4\n",
    "$$x=\\left[\\begin{matrix}1\\\\2\\\\3\\\\4\\end{matrix}\\right], y=\\left[\\begin{matrix}1\\\\2\\\\3\\\\4\\end{matrix}\\right]$$"
   ]
  },
  {
   "cell_type": "markdown",
   "metadata": {},
   "source": [
    "## Q3. 給一個 4x4 矩陣 A，用增廣矩陣+計算 RREF的方式求出 A 的反矩陣\n",
    "`注意：A 不一定有反矩陣，需觀察增廣矩陣的 RREF 的結果來判斷`"
   ]
  },
  {
   "cell_type": "code",
   "execution_count": 23,
   "metadata": {},
   "outputs": [],
   "source": [
    "A = sp.Matrix([[2, 0, 1, 0],\n",
    "               [1, 3, 0, 2], \n",
    "               [0, 1, -2, 1], \n",
    "               [4, 0, 1, 1]])"
   ]
  },
  {
   "cell_type": "code",
   "execution_count": 24,
   "metadata": {},
   "outputs": [
    {
     "data": {
      "text/latex": [
       "$\\displaystyle \\left[\\begin{matrix}2 & 0 & 1 & 0\\\\1 & 3 & 0 & 2\\\\0 & 1 & -2 & 1\\\\4 & 0 & 1 & 1\\end{matrix}\\right]$"
      ],
      "text/plain": [
       "Matrix([\n",
       "[2, 0,  1, 0],\n",
       "[1, 3,  0, 2],\n",
       "[0, 1, -2, 1],\n",
       "[4, 0,  1, 1]])"
      ]
     },
     "execution_count": 24,
     "metadata": {},
     "output_type": "execute_result"
    }
   ],
   "source": [
    "A"
   ]
  },
  {
   "cell_type": "markdown",
   "metadata": {},
   "source": [
    "### 增廣矩陣\n",
    "$$\n",
    "\\left[\\begin{array}{lccr|lccr}\n",
    "    2 & 0 & 1 & 0 & 1 & 0 & 0 & 0\\\\\n",
    "    1 & 3 & 0 & 2 & 0 & 1 & 0 & 0\\\\\n",
    "    0 & 1 & -2 & 1 & 0 & 0 & 1 & 0\\\\\n",
    "    4 & 0 & 1 & 1 & 0 & 0 & 0 & 1\n",
    "\\end{array}\\right]\n",
    "$$"
   ]
  },
  {
   "cell_type": "code",
   "execution_count": 25,
   "metadata": {},
   "outputs": [],
   "source": [
    "B = sp.Matrix([[2, 0, 1, 0, 1, 0, 0, 0],\n",
    "               [1, 3, 0, 2, 0, 1, 0, 0], \n",
    "               [0, 1, -2, 1, 0, 0, 1, 0], \n",
    "               [4, 0, 1, 1, 0, 0, 0, 1]])"
   ]
  },
  {
   "cell_type": "code",
   "execution_count": 26,
   "metadata": {},
   "outputs": [
    {
     "data": {
      "text/latex": [
       "$\\displaystyle \\left[\\begin{matrix}2 & 0 & 1 & 0 & 1 & 0 & 0 & 0\\\\1 & 3 & 0 & 2 & 0 & 1 & 0 & 0\\\\0 & 1 & -2 & 1 & 0 & 0 & 1 & 0\\\\4 & 0 & 1 & 1 & 0 & 0 & 0 & 1\\end{matrix}\\right]$"
      ],
      "text/plain": [
       "Matrix([\n",
       "[2, 0,  1, 0, 1, 0, 0, 0],\n",
       "[1, 3,  0, 2, 0, 1, 0, 0],\n",
       "[0, 1, -2, 1, 0, 0, 1, 0],\n",
       "[4, 0,  1, 1, 0, 0, 0, 1]])"
      ]
     },
     "execution_count": 26,
     "metadata": {},
     "output_type": "execute_result"
    }
   ],
   "source": [
    "B"
   ]
  },
  {
   "cell_type": "code",
   "execution_count": 27,
   "metadata": {},
   "outputs": [],
   "source": [
    "a0 = B.row(0)\n",
    "a1 = B.row(1)\n",
    "a2 = B.row(2)\n",
    "a3 = B.row(3)"
   ]
  },
  {
   "cell_type": "markdown",
   "metadata": {},
   "source": [
    "### 交換位置"
   ]
  },
  {
   "cell_type": "code",
   "execution_count": 28,
   "metadata": {},
   "outputs": [],
   "source": [
    "b0 = a1\n",
    "b1 = a2\n",
    "b2 = a0\n",
    "b3 = a3"
   ]
  },
  {
   "cell_type": "code",
   "execution_count": 29,
   "metadata": {},
   "outputs": [],
   "source": [
    "B = sp.Matrix([b0, b1, b2, b3])"
   ]
  },
  {
   "cell_type": "code",
   "execution_count": 30,
   "metadata": {},
   "outputs": [
    {
     "data": {
      "text/latex": [
       "$\\displaystyle \\left[\\begin{matrix}1 & 3 & 0 & 2 & 0 & 1 & 0 & 0\\\\0 & 1 & -2 & 1 & 0 & 0 & 1 & 0\\\\2 & 0 & 1 & 0 & 1 & 0 & 0 & 0\\\\4 & 0 & 1 & 1 & 0 & 0 & 0 & 1\\end{matrix}\\right]$"
      ],
      "text/plain": [
       "Matrix([\n",
       "[1, 3,  0, 2, 0, 1, 0, 0],\n",
       "[0, 1, -2, 1, 0, 0, 1, 0],\n",
       "[2, 0,  1, 0, 1, 0, 0, 0],\n",
       "[4, 0,  1, 1, 0, 0, 0, 1]])"
      ]
     },
     "execution_count": 30,
     "metadata": {},
     "output_type": "execute_result"
    }
   ],
   "source": [
    "B"
   ]
  },
  {
   "cell_type": "markdown",
   "metadata": {},
   "source": [
    "### 消除係數"
   ]
  },
  {
   "cell_type": "code",
   "execution_count": 31,
   "metadata": {},
   "outputs": [],
   "source": [
    "c0 = b0\n",
    "c1 = b1\n",
    "c2 = b2 - 2*b0\n",
    "c3 = b3 - 4*b0"
   ]
  },
  {
   "cell_type": "code",
   "execution_count": 32,
   "metadata": {},
   "outputs": [],
   "source": [
    "B = sp.Matrix([c0, c1, c2, c3])"
   ]
  },
  {
   "cell_type": "code",
   "execution_count": 33,
   "metadata": {},
   "outputs": [
    {
     "data": {
      "text/latex": [
       "$\\displaystyle \\left[\\begin{matrix}1 & 3 & 0 & 2 & 0 & 1 & 0 & 0\\\\0 & 1 & -2 & 1 & 0 & 0 & 1 & 0\\\\0 & -6 & 1 & -4 & 1 & -2 & 0 & 0\\\\0 & -12 & 1 & -7 & 0 & -4 & 0 & 1\\end{matrix}\\right]$"
      ],
      "text/plain": [
       "Matrix([\n",
       "[1,   3,  0,  2, 0,  1, 0, 0],\n",
       "[0,   1, -2,  1, 0,  0, 1, 0],\n",
       "[0,  -6,  1, -4, 1, -2, 0, 0],\n",
       "[0, -12,  1, -7, 0, -4, 0, 1]])"
      ]
     },
     "execution_count": 33,
     "metadata": {},
     "output_type": "execute_result"
    }
   ],
   "source": [
    "B"
   ]
  },
  {
   "cell_type": "code",
   "execution_count": 34,
   "metadata": {},
   "outputs": [],
   "source": [
    "d0 = c0\n",
    "d1 = c1\n",
    "d2 = c2 + 6*c1\n",
    "d3 = c3 + 12*c1"
   ]
  },
  {
   "cell_type": "code",
   "execution_count": 35,
   "metadata": {},
   "outputs": [],
   "source": [
    "B = sp.Matrix([d0, d1, d2, d3])"
   ]
  },
  {
   "cell_type": "code",
   "execution_count": 36,
   "metadata": {},
   "outputs": [
    {
     "data": {
      "text/latex": [
       "$\\displaystyle \\left[\\begin{matrix}1 & 3 & 0 & 2 & 0 & 1 & 0 & 0\\\\0 & 1 & -2 & 1 & 0 & 0 & 1 & 0\\\\0 & 0 & -11 & 2 & 1 & -2 & 6 & 0\\\\0 & 0 & -23 & 5 & 0 & -4 & 12 & 1\\end{matrix}\\right]$"
      ],
      "text/plain": [
       "Matrix([\n",
       "[1, 3,   0, 2, 0,  1,  0, 0],\n",
       "[0, 1,  -2, 1, 0,  0,  1, 0],\n",
       "[0, 0, -11, 2, 1, -2,  6, 0],\n",
       "[0, 0, -23, 5, 0, -4, 12, 1]])"
      ]
     },
     "execution_count": 36,
     "metadata": {},
     "output_type": "execute_result"
    }
   ],
   "source": [
    "B"
   ]
  },
  {
   "cell_type": "code",
   "execution_count": 37,
   "metadata": {},
   "outputs": [],
   "source": [
    "e0 = d0\n",
    "e1 = d1\n",
    "e2 = d2/-11\n",
    "e3 = d3/-23"
   ]
  },
  {
   "cell_type": "code",
   "execution_count": 38,
   "metadata": {},
   "outputs": [],
   "source": [
    "B = sp.Matrix([e0, e1, e2, e3])"
   ]
  },
  {
   "cell_type": "code",
   "execution_count": 39,
   "metadata": {},
   "outputs": [
    {
     "data": {
      "text/latex": [
       "$\\displaystyle \\left[\\begin{matrix}1 & 3 & 0 & 2 & 0 & 1 & 0 & 0\\\\0 & 1 & -2 & 1 & 0 & 0 & 1 & 0\\\\0 & 0 & 1 & - \\frac{2}{11} & - \\frac{1}{11} & \\frac{2}{11} & - \\frac{6}{11} & 0\\\\0 & 0 & 1 & - \\frac{5}{23} & 0 & \\frac{4}{23} & - \\frac{12}{23} & - \\frac{1}{23}\\end{matrix}\\right]$"
      ],
      "text/plain": [
       "Matrix([\n",
       "[1, 3,  0,     2,     0,    1,      0,     0],\n",
       "[0, 1, -2,     1,     0,    0,      1,     0],\n",
       "[0, 0,  1, -2/11, -1/11, 2/11,  -6/11,     0],\n",
       "[0, 0,  1, -5/23,     0, 4/23, -12/23, -1/23]])"
      ]
     },
     "execution_count": 39,
     "metadata": {},
     "output_type": "execute_result"
    }
   ],
   "source": [
    "B"
   ]
  },
  {
   "cell_type": "code",
   "execution_count": 40,
   "metadata": {},
   "outputs": [],
   "source": [
    "f0 = e0\n",
    "f1 = e1\n",
    "f2 = e2\n",
    "f3 = e3 - e2"
   ]
  },
  {
   "cell_type": "code",
   "execution_count": 41,
   "metadata": {},
   "outputs": [],
   "source": [
    "B = sp.Matrix([f0, f1, f2, f3])"
   ]
  },
  {
   "cell_type": "code",
   "execution_count": 42,
   "metadata": {},
   "outputs": [
    {
     "data": {
      "text/latex": [
       "$\\displaystyle \\left[\\begin{matrix}1 & 3 & 0 & 2 & 0 & 1 & 0 & 0\\\\0 & 1 & -2 & 1 & 0 & 0 & 1 & 0\\\\0 & 0 & 1 & - \\frac{2}{11} & - \\frac{1}{11} & \\frac{2}{11} & - \\frac{6}{11} & 0\\\\0 & 0 & 0 & - \\frac{9}{253} & \\frac{1}{11} & - \\frac{2}{253} & \\frac{6}{253} & - \\frac{1}{23}\\end{matrix}\\right]$"
      ],
      "text/plain": [
       "Matrix([\n",
       "[1, 3,  0,      2,     0,      1,     0,     0],\n",
       "[0, 1, -2,      1,     0,      0,     1,     0],\n",
       "[0, 0,  1,  -2/11, -1/11,   2/11, -6/11,     0],\n",
       "[0, 0,  0, -9/253,  1/11, -2/253, 6/253, -1/23]])"
      ]
     },
     "execution_count": 42,
     "metadata": {},
     "output_type": "execute_result"
    }
   ],
   "source": [
    "B"
   ]
  },
  {
   "cell_type": "code",
   "execution_count": 43,
   "metadata": {},
   "outputs": [],
   "source": [
    "g0 = f0\n",
    "g1 = f1\n",
    "g2 = f2\n",
    "g3 = f3/(sp.sympify(-9)/253)"
   ]
  },
  {
   "cell_type": "code",
   "execution_count": 44,
   "metadata": {},
   "outputs": [],
   "source": [
    "B = sp.Matrix([g0, g1, g2, g3])"
   ]
  },
  {
   "cell_type": "code",
   "execution_count": 45,
   "metadata": {},
   "outputs": [
    {
     "data": {
      "text/latex": [
       "$\\displaystyle \\left[\\begin{matrix}1 & 3 & 0 & 2 & 0 & 1 & 0 & 0\\\\0 & 1 & -2 & 1 & 0 & 0 & 1 & 0\\\\0 & 0 & 1 & - \\frac{2}{11} & - \\frac{1}{11} & \\frac{2}{11} & - \\frac{6}{11} & 0\\\\0 & 0 & 0 & 1 & - \\frac{23}{9} & \\frac{2}{9} & - \\frac{2}{3} & \\frac{11}{9}\\end{matrix}\\right]$"
      ],
      "text/plain": [
       "Matrix([\n",
       "[1, 3,  0,     2,     0,    1,     0,    0],\n",
       "[0, 1, -2,     1,     0,    0,     1,    0],\n",
       "[0, 0,  1, -2/11, -1/11, 2/11, -6/11,    0],\n",
       "[0, 0,  0,     1, -23/9,  2/9,  -2/3, 11/9]])"
      ]
     },
     "execution_count": 45,
     "metadata": {},
     "output_type": "execute_result"
    }
   ],
   "source": [
    "B"
   ]
  },
  {
   "cell_type": "code",
   "execution_count": 46,
   "metadata": {},
   "outputs": [],
   "source": [
    "h0 = g0 - 3*g1\n",
    "h1 = g1 + 2*g2\n",
    "h2 = g2 + (sp.sympify(2)/11*g3)\n",
    "h3 = g3"
   ]
  },
  {
   "cell_type": "code",
   "execution_count": 47,
   "metadata": {},
   "outputs": [],
   "source": [
    "B = sp.Matrix([h0, h1, h2, h3])"
   ]
  },
  {
   "cell_type": "code",
   "execution_count": 48,
   "metadata": {},
   "outputs": [
    {
     "data": {
      "text/latex": [
       "$\\displaystyle \\left[\\begin{matrix}1 & 0 & 6 & -1 & 0 & 1 & -3 & 0\\\\0 & 1 & 0 & \\frac{7}{11} & - \\frac{2}{11} & \\frac{4}{11} & - \\frac{1}{11} & 0\\\\0 & 0 & 1 & 0 & - \\frac{5}{9} & \\frac{2}{9} & - \\frac{2}{3} & \\frac{2}{9}\\\\0 & 0 & 0 & 1 & - \\frac{23}{9} & \\frac{2}{9} & - \\frac{2}{3} & \\frac{11}{9}\\end{matrix}\\right]$"
      ],
      "text/plain": [
       "Matrix([\n",
       "[1, 0, 6,   -1,     0,    1,    -3,    0],\n",
       "[0, 1, 0, 7/11, -2/11, 4/11, -1/11,    0],\n",
       "[0, 0, 1,    0,  -5/9,  2/9,  -2/3,  2/9],\n",
       "[0, 0, 0,    1, -23/9,  2/9,  -2/3, 11/9]])"
      ]
     },
     "execution_count": 48,
     "metadata": {},
     "output_type": "execute_result"
    }
   ],
   "source": [
    "B"
   ]
  },
  {
   "cell_type": "code",
   "execution_count": 49,
   "metadata": {},
   "outputs": [],
   "source": [
    "i0 = h0 - 6*g2\n",
    "i1 = h1 - (sp.sympify(7)/11*g3)\n",
    "i2 = h2\n",
    "i3 = h3"
   ]
  },
  {
   "cell_type": "code",
   "execution_count": 50,
   "metadata": {},
   "outputs": [],
   "source": [
    "B = sp.Matrix([i0, i1, i2, i3])"
   ]
  },
  {
   "cell_type": "code",
   "execution_count": 51,
   "metadata": {},
   "outputs": [
    {
     "data": {
      "text/latex": [
       "$\\displaystyle \\left[\\begin{matrix}1 & 0 & 0 & \\frac{1}{11} & \\frac{6}{11} & - \\frac{1}{11} & \\frac{3}{11} & 0\\\\0 & 1 & 0 & 0 & \\frac{13}{9} & \\frac{2}{9} & \\frac{1}{3} & - \\frac{7}{9}\\\\0 & 0 & 1 & 0 & - \\frac{5}{9} & \\frac{2}{9} & - \\frac{2}{3} & \\frac{2}{9}\\\\0 & 0 & 0 & 1 & - \\frac{23}{9} & \\frac{2}{9} & - \\frac{2}{3} & \\frac{11}{9}\\end{matrix}\\right]$"
      ],
      "text/plain": [
       "Matrix([\n",
       "[1, 0, 0, 1/11,  6/11, -1/11, 3/11,    0],\n",
       "[0, 1, 0,    0,  13/9,   2/9,  1/3, -7/9],\n",
       "[0, 0, 1,    0,  -5/9,   2/9, -2/3,  2/9],\n",
       "[0, 0, 0,    1, -23/9,   2/9, -2/3, 11/9]])"
      ]
     },
     "execution_count": 51,
     "metadata": {},
     "output_type": "execute_result"
    }
   ],
   "source": [
    "B"
   ]
  },
  {
   "cell_type": "code",
   "execution_count": 52,
   "metadata": {},
   "outputs": [],
   "source": [
    "j0 = i0 - (sp.sympify(1)/11*g3)\n",
    "j1 = i1\n",
    "j2 = i2\n",
    "j3 = i3"
   ]
  },
  {
   "cell_type": "code",
   "execution_count": 53,
   "metadata": {},
   "outputs": [],
   "source": [
    "B = sp.Matrix([j0, j1, j2, j3])"
   ]
  },
  {
   "cell_type": "code",
   "execution_count": 54,
   "metadata": {},
   "outputs": [
    {
     "data": {
      "text/latex": [
       "$\\displaystyle \\left[\\begin{matrix}1 & 0 & 0 & 0 & \\frac{7}{9} & - \\frac{1}{9} & \\frac{1}{3} & - \\frac{1}{9}\\\\0 & 1 & 0 & 0 & \\frac{13}{9} & \\frac{2}{9} & \\frac{1}{3} & - \\frac{7}{9}\\\\0 & 0 & 1 & 0 & - \\frac{5}{9} & \\frac{2}{9} & - \\frac{2}{3} & \\frac{2}{9}\\\\0 & 0 & 0 & 1 & - \\frac{23}{9} & \\frac{2}{9} & - \\frac{2}{3} & \\frac{11}{9}\\end{matrix}\\right]$"
      ],
      "text/plain": [
       "Matrix([\n",
       "[1, 0, 0, 0,   7/9, -1/9,  1/3, -1/9],\n",
       "[0, 1, 0, 0,  13/9,  2/9,  1/3, -7/9],\n",
       "[0, 0, 1, 0,  -5/9,  2/9, -2/3,  2/9],\n",
       "[0, 0, 0, 1, -23/9,  2/9, -2/3, 11/9]])"
      ]
     },
     "execution_count": 54,
     "metadata": {},
     "output_type": "execute_result"
    }
   ],
   "source": [
    "B"
   ]
  },
  {
   "cell_type": "markdown",
   "metadata": {},
   "source": [
    "### A的反矩陣為 $$\\left[\\begin{matrix}\\frac{7}{9} & - \\frac{1}{9} & \\frac{1}{3} & - \\frac{1}{9}\\\\\\frac{13}{9} & \\frac{2}{9} & \\frac{1}{3} & - \\frac{7}{9}\\\\- \\frac{5}{9} & \\frac{2}{9} & - \\frac{2}{3} & \\frac{2}{9}\\\\- \\frac{23}{9} & \\frac{2}{9} & - \\frac{2}{3} & \\frac{11}{9}\\end{matrix}\\right]$$"
   ]
  },
  {
   "cell_type": "code",
   "execution_count": null,
   "metadata": {},
   "outputs": [],
   "source": []
  }
 ],
 "metadata": {
  "kernelspec": {
   "display_name": "Python 3",
   "language": "python",
   "name": "python3"
  },
  "language_info": {
   "codemirror_mode": {
    "name": "ipython",
    "version": 3
   },
   "file_extension": ".py",
   "mimetype": "text/x-python",
   "name": "python",
   "nbconvert_exporter": "python",
   "pygments_lexer": "ipython3",
   "version": "3.7.7"
  }
 },
 "nbformat": 4,
 "nbformat_minor": 2
}
