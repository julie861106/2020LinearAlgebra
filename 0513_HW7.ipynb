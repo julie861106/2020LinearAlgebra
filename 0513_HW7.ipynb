{
 "cells": [
  {
   "cell_type": "code",
   "execution_count": 1,
   "metadata": {},
   "outputs": [],
   "source": [
    "%matplotlib inline\n",
    "\n",
    "import numpy as np\n",
    "import sympy as sp"
   ]
  },
  {
   "cell_type": "markdown",
   "metadata": {},
   "source": [
    "### $Φ$:R<sup>3</sup>→R<sup>4</sup> 為一個線性轉換\n",
    "### 定義轉移矩陣$A_Φ$"
   ]
  },
  {
   "cell_type": "code",
   "execution_count": 2,
   "metadata": {},
   "outputs": [],
   "source": [
    "Aphi = sp.Matrix([[1, 2, 3],\n",
    "                  [-3, 1, -2],\n",
    "                  [-2, 3, 5],\n",
    "                  [-4, 6, 6]])"
   ]
  },
  {
   "cell_type": "markdown",
   "metadata": {},
   "source": [
    "### $B, C$為標準基底"
   ]
  },
  {
   "cell_type": "code",
   "execution_count": 3,
   "metadata": {},
   "outputs": [],
   "source": [
    "B = sp.Matrix([[1, 0, 0],\n",
    "             [0, 1, 0],\n",
    "             [0, 0, 1]])\n",
    "C = sp.Matrix([[1, 0, 0, 0],\n",
    "             [0, 1, 0, 0],\n",
    "             [0, 0, 1, 0],\n",
    "             [0, 0, 0, 1]])"
   ]
  },
  {
   "cell_type": "markdown",
   "metadata": {},
   "source": [
    "### 定義新的基底$\\tilde B$, $\\tilde C$"
   ]
  },
  {
   "cell_type": "code",
   "execution_count": 4,
   "metadata": {},
   "outputs": [],
   "source": [
    "Btilde = sp.Matrix([[1, 2, 0],\n",
    "             [0, 1, -1],\n",
    "             [-1, 0, 1]])\n",
    "Ctilde = sp.Matrix([[1, 0, -1, 0],\n",
    "             [-1, 1, 0, 0],\n",
    "             [0, 1, 1, 0],\n",
    "             [1, 0, 0, 1]])"
   ]
  },
  {
   "cell_type": "markdown",
   "metadata": {},
   "source": [
    "### 計算新基底之轉移矩陣$\\tilde A_Φ$\n",
    "#### 已知公式$\\tilde A_Φ =T^{−1}A_ΦS$\n",
    "#### $S=\\tilde B, T^{−1} = \\tilde C^{−1}$"
   ]
  },
  {
   "cell_type": "code",
   "execution_count": 5,
   "metadata": {},
   "outputs": [
    {
     "data": {
      "text/latex": [
       "$\\displaystyle \\left[\\begin{matrix}-4 & 4 & 3\\\\-5 & -1 & 0\\\\-2 & 0 & 2\\\\-6 & -6 & -3\\end{matrix}\\right]$"
      ],
      "text/plain": [
       "Matrix([\n",
       "[-4,  4,  3],\n",
       "[-5, -1,  0],\n",
       "[-2,  0,  2],\n",
       "[-6, -6, -3]])"
      ]
     },
     "execution_count": 5,
     "metadata": {},
     "output_type": "execute_result"
    }
   ],
   "source": [
    "Atildephi=Ctilde.inv()*Aphi*Btilde\n",
    "Atildephi"
   ]
  },
  {
   "cell_type": "markdown",
   "metadata": {},
   "source": [
    "### $\\tilde A_Φ$為 \n",
    "$\\left[\\begin{matrix}-4 & 4 & 3\\\\-5 & -1 & 0\\\\-2 & 0 & 2\\\\-6 & -6 & -3\\end{matrix}\\right]$"
   ]
  },
  {
   "cell_type": "markdown",
   "metadata": {},
   "source": [
    "### 檢驗計算是否正確"
   ]
  },
  {
   "cell_type": "code",
   "execution_count": 6,
   "metadata": {},
   "outputs": [
    {
     "data": {
      "text/plain": [
       "True"
      ]
     },
     "execution_count": 6,
     "metadata": {},
     "output_type": "execute_result"
    }
   ],
   "source": [
    "Vtilde=sp.Matrix([1, 1, 1])\n",
    "V=Btilde*Vtilde\n",
    "Ctilde*Atildephi*Vtilde==(Aphi*V)"
   ]
  },
  {
   "cell_type": "code",
   "execution_count": null,
   "metadata": {},
   "outputs": [],
   "source": []
  }
 ],
 "metadata": {
  "kernelspec": {
   "display_name": "Python 3",
   "language": "python",
   "name": "python3"
  },
  "language_info": {
   "codemirror_mode": {
    "name": "ipython",
    "version": 3
   },
   "file_extension": ".py",
   "mimetype": "text/x-python",
   "name": "python",
   "nbconvert_exporter": "python",
   "pygments_lexer": "ipython3",
   "version": "3.7.7"
  }
 },
 "nbformat": 4,
 "nbformat_minor": 2
}
