{
 "cells": [
  {
   "cell_type": "code",
   "execution_count": 1,
   "metadata": {},
   "outputs": [],
   "source": [
    "%matplotlib inline\n",
    "\n",
    "import numpy as np\n",
    "import sympy as sp\n",
    "import matplotlib.pyplot as plt\n",
    "plt.style.use(\"seaborn-bright\") "
   ]
  },
  {
   "cell_type": "markdown",
   "metadata": {},
   "source": [
    "### 1. 定義一個二維平面上的區域 $S$，如：$S=[0, 1]\\times[0, 1]$ 是單位正方形，並以各種方式將 $S$ 畫出"
   ]
  },
  {
   "cell_type": "markdown",
   "metadata": {},
   "source": [
    "#### 令$S=[1, 3]\\times[2, 4]$"
   ]
  },
  {
   "cell_type": "code",
   "execution_count": 2,
   "metadata": {},
   "outputs": [],
   "source": [
    "a1, a2 = 1, 3\n",
    "b1, b2 = 2, 4"
   ]
  },
  {
   "cell_type": "markdown",
   "metadata": {},
   "source": [
    "#### [1, 3] 等分 10 個點，[2, 4] 等分 10 個點"
   ]
  },
  {
   "cell_type": "code",
   "execution_count": 3,
   "metadata": {},
   "outputs": [],
   "source": [
    "n, m = 10, 10\n",
    "x = np.linspace(a1, a2, n)\n",
    "y = np.linspace(b1, b2, n)"
   ]
  },
  {
   "cell_type": "markdown",
   "metadata": {},
   "source": [
    "#### meshgrid"
   ]
  },
  {
   "cell_type": "code",
   "execution_count": 4,
   "metadata": {},
   "outputs": [],
   "source": [
    "X, Y = np.meshgrid(x, y)\n",
    "X = X.flatten()\n",
    "Y = Y.flatten()\n",
    "S_meshgrid = np.vstack([X, Y])"
   ]
  },
  {
   "cell_type": "markdown",
   "metadata": {},
   "source": [
    "#### 畫圖"
   ]
  },
  {
   "cell_type": "code",
   "execution_count": 5,
   "metadata": {},
   "outputs": [
    {
     "data": {
      "text/plain": [
       "(1.5, 4.5)"
      ]
     },
     "execution_count": 5,
     "metadata": {},
     "output_type": "execute_result"
    },
    {
     "data": {
      "image/png": "[encoded data removed]",
      "text/plain": [
       "<Figure size 432x288 with 1 Axes>"
      ]
     },
     "metadata": {
      "needs_background": "light"
     },
     "output_type": "display_data"
    }
   ],
   "source": [
    "plt.scatter(X, Y, c='skyblue')\n",
    "plt.title('$S$')\n",
    "\n",
    "plt.xlim(0, 4)\n",
    "plt.ylim(1.5, 4.5)"
   ]
  },
  {
   "cell_type": "markdown",
   "metadata": {},
   "source": [
    "### 2. 透過矩陣定義一個線性轉換 $\\Phi:\\mathbb{R}^2\\to\\mathbb{R}^2$"
   ]
  },
  {
   "cell_type": "markdown",
   "metadata": {},
   "source": [
    "### 例1：逆時針旋轉90度\n",
    "$$\n",
    "\\Phi(x, y) = (-{1}y, {1}x)\n",
    "$$\n",
    "\n",
    "相對於 $\\mathbb{R}^2$ 的標準基底，我們可以得到 $\\Phi$ 的矩陣表示法\n",
    "$$\n",
    "A_\\Phi=\\begin{bmatrix}\n",
    "{0} & -{1}\\\\\n",
    "{1} & {0}\n",
    "\\end{bmatrix}\n",
    "$$"
   ]
  },
  {
   "cell_type": "code",
   "execution_count": 6,
   "metadata": {},
   "outputs": [],
   "source": [
    "A = np.array([[0, -1],\n",
    "              [1, 0]])\n",
    "\n",
    "def phiA(x):\n",
    "    return A@x"
   ]
  },
  {
   "cell_type": "markdown",
   "metadata": {},
   "source": [
    "### 例2：逆時針旋轉45度\n",
    "$$\n",
    "\\Phi(x, y) = (\\frac{\\sqrt{2}}{2}x-\\frac{\\sqrt{2}}{2}y, \\frac{\\sqrt{2}}{2}x+\\frac{\\sqrt{2}}{2}y)\n",
    "$$\n",
    "\n",
    "相對於 $\\mathbb{R}^2$ 的標準基底，我們可以得到 $\\Phi$ 的矩陣表示法\n",
    "$$\n",
    "B_\\Phi=\\begin{bmatrix}\n",
    "\\frac{\\sqrt{2}}{2} & -\\frac{\\sqrt{2}}{2}\\\\\n",
    "\\frac{\\sqrt{2}}{2} & \\frac{\\sqrt{2}}{2}\n",
    "\\end{bmatrix}\n",
    "$$"
   ]
  },
  {
   "cell_type": "code",
   "execution_count": 7,
   "metadata": {},
   "outputs": [],
   "source": [
    "B = np.array([[np.sqrt(2)/2, -np.sqrt(2)/2],\n",
    "              [np.sqrt(2)/2, np.sqrt(2)/2]])\n",
    "\n",
    "def phiB(x):\n",
    "    return B@x"
   ]
  },
  {
   "cell_type": "markdown",
   "metadata": {},
   "source": [
    "### 例3：在所有方向上放大2倍\n",
    "$$\n",
    "\\Phi(x, y) = ({2}x, {2}y)\n",
    "$$\n",
    "\n",
    "相對於 $\\mathbb{R}^2$ 的標準基底，我們可以得到 $\\Phi$ 的矩陣表示法\n",
    "$$\n",
    "C_\\Phi=\\begin{bmatrix}\n",
    "{2} & {0}\\\\\n",
    "{0} & {2}\n",
    "\\end{bmatrix}\n",
    "$$"
   ]
  },
  {
   "cell_type": "code",
   "execution_count": 8,
   "metadata": {},
   "outputs": [],
   "source": [
    "C = np.array([[2, 0],\n",
    "              [0, 2]])\n",
    "\n",
    "def phiC(x):\n",
    "    return C@x"
   ]
  },
  {
   "cell_type": "markdown",
   "metadata": {},
   "source": [
    "### 例4：針對x軸反射\n",
    "$$\n",
    "\\Phi(x, y) = ({1}x, {-1}y)\n",
    "$$\n",
    "\n",
    "相對於 $\\mathbb{R}^2$ 的標準基底，我們可以得到 $\\Phi$ 的矩陣表示法\n",
    "$$\n",
    "D_\\Phi=\\begin{bmatrix}\n",
    "{1} & {0}\\\\\n",
    "{0} & {-1}\n",
    "\\end{bmatrix}\n",
    "$$"
   ]
  },
  {
   "cell_type": "code",
   "execution_count": 9,
   "metadata": {},
   "outputs": [],
   "source": [
    "D = np.array([[1, 0],\n",
    "              [0, -1]])\n",
    "\n",
    "def phiD(x):\n",
    "    return D@x"
   ]
  },
  {
   "cell_type": "markdown",
   "metadata": {},
   "source": [
    "### 例5：向y軸投影\n",
    "$$\n",
    "\\Phi(x, y) = ({0}x, {1}y)\n",
    "$$\n",
    "\n",
    "相對於 $\\mathbb{R}^2$ 的標準基底，我們可以得到 $\\Phi$ 的矩陣表示法\n",
    "$$\n",
    "A_\\Phi=\\begin{bmatrix}\n",
    "{0} & {0}\\\\\n",
    "{0} & {1}\n",
    "\\end{bmatrix}\n",
    "$$"
   ]
  },
  {
   "cell_type": "code",
   "execution_count": 10,
   "metadata": {},
   "outputs": [],
   "source": [
    "E = np.array([[0, 0],\n",
    "              [0, 1]])\n",
    "\n",
    "def phiE(x):\n",
    "    return E@x"
   ]
  },
  {
   "cell_type": "markdown",
   "metadata": {},
   "source": [
    "### 3. 透過各種方式將 $\\Phi(S)$ 畫出"
   ]
  },
  {
   "cell_type": "code",
   "execution_count": 11,
   "metadata": {},
   "outputs": [],
   "source": [
    "ax, ay = phiA(S_meshgrid)\n",
    "bx, by = phiB(S_meshgrid)\n",
    "cx, cy = phiC(S_meshgrid)\n",
    "dx, dy = phiD(S_meshgrid)\n",
    "ex, ey = phiE(S_meshgrid)"
   ]
  },
  {
   "cell_type": "markdown",
   "metadata": {},
   "source": [
    "### 例1：逆時針旋轉90度"
   ]
  },
  {
   "cell_type": "code",
   "execution_count": 12,
   "metadata": {},
   "outputs": [
    {
     "data": {
      "text/plain": [
       "(-2, 6)"
      ]
     },
     "execution_count": 12,
     "metadata": {},
     "output_type": "execute_result"
    },
    {
     "data": {
      "image/png": "[encoded data removed]",
      "text/plain": [
       "<Figure size 432x288 with 1 Axes>"
      ]
     },
     "metadata": {
      "needs_background": "light"
     },
     "output_type": "display_data"
    }
   ],
   "source": [
    "plt.scatter(X, Y, c='skyblue')\n",
    "plt.scatter(ax, ay, c='coral')\n",
    "plt.title('$S$ and $\\Phi(S)$')\n",
    "\n",
    "plt.xlim(-5, 5)\n",
    "plt.ylim(-2, 6)"
   ]
  },
  {
   "cell_type": "markdown",
   "metadata": {},
   "source": [
    "### 例2：逆時針旋轉45度"
   ]
  },
  {
   "cell_type": "code",
   "execution_count": 13,
   "metadata": {},
   "outputs": [
    {
     "data": {
      "text/plain": [
       "(-2, 6)"
      ]
     },
     "execution_count": 13,
     "metadata": {},
     "output_type": "execute_result"
    },
    {
     "data": {
      "image/png": "[encoded data removed]",
      "text/plain": [
       "<Figure size 432x288 with 1 Axes>"
      ]
     },
     "metadata": {
      "needs_background": "light"
     },
     "output_type": "display_data"
    }
   ],
   "source": [
    "plt.scatter(X, Y, c='skyblue')\n",
    "plt.scatter(bx, by, c='coral')\n",
    "plt.title('$S$ and $\\Phi(S)$')\n",
    "\n",
    "plt.xlim(-5, 5)\n",
    "plt.ylim(-2, 6)"
   ]
  },
  {
   "cell_type": "markdown",
   "metadata": {},
   "source": [
    "### 例3：在所有方向上放大2倍"
   ]
  },
  {
   "cell_type": "code",
   "execution_count": 14,
   "metadata": {},
   "outputs": [
    {
     "data": {
      "text/plain": [
       "(1, 9)"
      ]
     },
     "execution_count": 14,
     "metadata": {},
     "output_type": "execute_result"
    },
    {
     "data": {
      "image/png": "[encoded data removed]",
      "text/plain": [
       "<Figure size 432x288 with 1 Axes>"
      ]
     },
     "metadata": {
      "needs_background": "light"
     },
     "output_type": "display_data"
    }
   ],
   "source": [
    "plt.scatter(X, Y, c='skyblue')\n",
    "plt.scatter(cx, cy, c='coral')\n",
    "plt.title('$S$ and $\\Phi(S)$')\n",
    "\n",
    "plt.xlim(-2, 8)\n",
    "plt.ylim(1, 9)"
   ]
  },
  {
   "cell_type": "markdown",
   "metadata": {},
   "source": [
    "### 例4：針對x軸反射"
   ]
  },
  {
   "cell_type": "code",
   "execution_count": 15,
   "metadata": {},
   "outputs": [
    {
     "data": {
      "text/plain": [
       "(-5, 5)"
      ]
     },
     "execution_count": 15,
     "metadata": {},
     "output_type": "execute_result"
    },
    {
     "data": {
      "image/png": "[encoded data removed]",
      "text/plain": [
       "<Figure size 432x288 with 1 Axes>"
      ]
     },
     "metadata": {
      "needs_background": "light"
     },
     "output_type": "display_data"
    }
   ],
   "source": [
    "plt.scatter(X, Y, c='skyblue')\n",
    "plt.scatter(dx, dy, c='coral')\n",
    "plt.title('$S$ and $\\Phi(S)$')\n",
    "\n",
    "plt.xlim(-4, 8)\n",
    "plt.ylim(-5, 5)"
   ]
  },
  {
   "cell_type": "markdown",
   "metadata": {},
   "source": [
    "### 例5：向y軸投影"
   ]
  },
  {
   "cell_type": "code",
   "execution_count": 16,
   "metadata": {},
   "outputs": [
    {
     "data": {
      "text/plain": [
       "(-2, 6)"
      ]
     },
     "execution_count": 16,
     "metadata": {},
     "output_type": "execute_result"
    },
    {
     "data": {
      "image/png": "[encoded data removed]",
      "text/plain": [
       "<Figure size 432x288 with 1 Axes>"
      ]
     },
     "metadata": {
      "needs_background": "light"
     },
     "output_type": "display_data"
    }
   ],
   "source": [
    "plt.scatter(X, Y, c='skyblue')\n",
    "plt.scatter(ex, ey, c='coral')\n",
    "plt.title('$S$ and $\\Phi(S)$')\n",
    "\n",
    "plt.xlim(-5, 5)\n",
    "plt.ylim(-2, 6)"
   ]
  },
  {
   "cell_type": "code",
   "execution_count": null,
   "metadata": {},
   "outputs": [],
   "source": []
  }
 ],
 "metadata": {
  "kernelspec": {
   "display_name": "Python 3",
   "language": "python",
   "name": "python3"
  },
  "language_info": {
   "codemirror_mode": {
    "name": "ipython",
    "version": 3
   },
   "file_extension": ".py",
   "mimetype": "text/x-python",
   "name": "python",
   "nbconvert_exporter": "python",
   "pygments_lexer": "ipython3",
   "version": "3.7.7"
  }
 },
 "nbformat": 4,
 "nbformat_minor": 2
}
