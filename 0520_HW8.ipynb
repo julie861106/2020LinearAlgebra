{
 "cells": [
  {
   "cell_type": "code",
   "execution_count": 1,
   "metadata": {},
   "outputs": [],
   "source": [
    "%matplotlib inline\n",
    "\n",
    "import numpy as np\n",
    "import matplotlib.pyplot as plt"
   ]
  },
  {
   "cell_type": "markdown",
   "metadata": {},
   "source": [
    "### 定義一個affine subspace$L$ in $\\mathbb{R}^2$\n",
    "### $L_0 = x_0 + λ_1b_1$"
   ]
  },
  {
   "cell_type": "code",
   "execution_count": 2,
   "metadata": {},
   "outputs": [
    {
     "data": {
      "image/png": "[encoded data removed]",
      "text/plain": [
       "<Figure size 432x288 with 1 Axes>"
      ]
     },
     "metadata": {
      "needs_background": "light"
     },
     "output_type": "display_data"
    }
   ],
   "source": [
    "x0=np.array([2, 5])\n",
    "b1=np.array([3, 13])\n",
    "λ1 = np.linspace(10, -10, 100)\n",
    "Lx = []\n",
    "Ly = []\n",
    "\n",
    "for i in λ1:\n",
    "    L = x0 + np.dot(i, b1)\n",
    "    plt.scatter(L[0], L[1], s = 10, c = 'skyblue')\n",
    "    Lx.append(L[0])\n",
    "    Ly.append(L[1])\n",
    "    \n",
    "L = np.array([Lx, Ly]).T"
   ]
  },
  {
   "cell_type": "markdown",
   "metadata": {},
   "source": [
    "### $\\Phi:\\mathbb{R}^2\\to\\mathbb{R}^2$是一個affine mapping\n",
    "### $L_1 = a + \\Phi(x)$"
   ]
  },
  {
   "cell_type": "code",
   "execution_count": 5,
   "metadata": {},
   "outputs": [
    {
     "data": {
      "image/png": "[encoded data removed]",
      "text/plain": [
       "<Figure size 432x288 with 1 Axes>"
      ]
     },
     "metadata": {
      "needs_background": "light"
     },
     "output_type": "display_data"
    }
   ],
   "source": [
    "phi = np.array([[np.sqrt(2), -np.sqrt(2)],\n",
    "              [np.sqrt(2), np.sqrt(2)]])\n",
    "a = np.array([3, 4])\n",
    "L1x = []\n",
    "L1y = []\n",
    "\n",
    "for i in range(L.shape[0]):\n",
    "    L1 = a + np.dot(phi, L[i])\n",
    "    plt.scatter(L1[0], L1[1], s = 10, c = 'coral')\n",
    "    L1x.append(L1[0])\n",
    "    L1y.append(L1[1])\n",
    "\n",
    "L1= np.array([Lx, Ly]).T"
   ]
  },
  {
   "cell_type": "markdown",
   "metadata": {},
   "source": [
    "### 經過affine mapping後，依然為affine subspace"
   ]
  },
  {
   "cell_type": "code",
   "execution_count": 6,
   "metadata": {},
   "outputs": [
    {
     "data": {
      "text/plain": [
       "<matplotlib.collections.PathCollection at 0x113874690>"
      ]
     },
     "execution_count": 6,
     "metadata": {},
     "output_type": "execute_result"
    },
    {
     "data": {
      "image/png": "[encoded data removed]",
      "text/plain": [
       "<Figure size 432x288 with 1 Axes>"
      ]
     },
     "metadata": {
      "needs_background": "light"
     },
     "output_type": "display_data"
    }
   ],
   "source": [
    "plt.scatter(Lx, Ly, s = 10, c = 'skyblue')\n",
    "plt.scatter(L1x, L1y, s = 10, c = 'coral')"
   ]
  },
  {
   "cell_type": "code",
   "execution_count": null,
   "metadata": {},
   "outputs": [],
   "source": []
  }
 ],
 "metadata": {
  "kernelspec": {
   "display_name": "Python 3",
   "language": "python",
   "name": "python3"
  },
  "language_info": {
   "codemirror_mode": {
    "name": "ipython",
    "version": 3
   },
   "file_extension": ".py",
   "mimetype": "text/x-python",
   "name": "python",
   "nbconvert_exporter": "python",
   "pygments_lexer": "ipython3",
   "version": "3.7.7"
  }
 },
 "nbformat": 4,
 "nbformat_minor": 2
}
